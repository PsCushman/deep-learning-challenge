{
  "cells": [
    {
      "cell_type": "markdown",
      "metadata": {
        "id": "view-in-github",
        "colab_type": "text"
      },
      "source": [
        "<a href=\"https://colab.research.google.com/github/PsCushman/deep-learning-challenge/blob/main/AlphabetSoupCharity_Optimization.ipynb\" target=\"_parent\"><img src=\"https://colab.research.google.com/assets/colab-badge.svg\" alt=\"Open In Colab\"/></a>"
      ]
    },
    {
      "cell_type": "markdown",
      "metadata": {
        "id": "A44R1YaieqK3"
      },
      "source": [
        "## Preprocessing"
      ]
    },
    {
      "cell_type": "code",
      "execution_count": 1,
      "metadata": {
        "colab": {
          "base_uri": "https://localhost:8080/",
          "height": 496
        },
        "id": "4POwk1ZReqK8",
        "outputId": "432658c8-d20b-4daa-8b86-9f288fb7dd19"
      },
      "outputs": [
        {
          "output_type": "execute_result",
          "data": {
            "text/plain": [
              "        EIN                                      NAME APPLICATION_TYPE  \\\n",
              "0  10520599              BLUE KNIGHTS MOTORCYCLE CLUB              T10   \n",
              "1  10531628    AMERICAN CHESAPEAKE CLUB CHARITABLE TR               T3   \n",
              "2  10547893        ST CLOUD PROFESSIONAL FIREFIGHTERS               T5   \n",
              "3  10553066            SOUTHSIDE ATHLETIC ASSOCIATION               T3   \n",
              "4  10556103  GENETIC RESEARCH INSTITUTE OF THE DESERT               T3   \n",
              "\n",
              "        AFFILIATION CLASSIFICATION      USE_CASE  ORGANIZATION  STATUS  \\\n",
              "0       Independent          C1000    ProductDev   Association       1   \n",
              "1       Independent          C2000  Preservation  Co-operative       1   \n",
              "2  CompanySponsored          C3000    ProductDev   Association       1   \n",
              "3  CompanySponsored          C2000  Preservation         Trust       1   \n",
              "4       Independent          C1000     Heathcare         Trust       1   \n",
              "\n",
              "      INCOME_AMT SPECIAL_CONSIDERATIONS  ASK_AMT  IS_SUCCESSFUL  \n",
              "0              0                      N     5000              1  \n",
              "1         1-9999                      N   108590              1  \n",
              "2              0                      N     5000              0  \n",
              "3    10000-24999                      N     6692              1  \n",
              "4  100000-499999                      N   142590              1  "
            ],
            "text/html": [
              "\n",
              "\n",
              "  <div id=\"df-1840bdfc-421c-4405-bd4d-7f3b428844a2\">\n",
              "    <div class=\"colab-df-container\">\n",
              "      <div>\n",
              "<style scoped>\n",
              "    .dataframe tbody tr th:only-of-type {\n",
              "        vertical-align: middle;\n",
              "    }\n",
              "\n",
              "    .dataframe tbody tr th {\n",
              "        vertical-align: top;\n",
              "    }\n",
              "\n",
              "    .dataframe thead th {\n",
              "        text-align: right;\n",
              "    }\n",
              "</style>\n",
              "<table border=\"1\" class=\"dataframe\">\n",
              "  <thead>\n",
              "    <tr style=\"text-align: right;\">\n",
              "      <th></th>\n",
              "      <th>EIN</th>\n",
              "      <th>NAME</th>\n",
              "      <th>APPLICATION_TYPE</th>\n",
              "      <th>AFFILIATION</th>\n",
              "      <th>CLASSIFICATION</th>\n",
              "      <th>USE_CASE</th>\n",
              "      <th>ORGANIZATION</th>\n",
              "      <th>STATUS</th>\n",
              "      <th>INCOME_AMT</th>\n",
              "      <th>SPECIAL_CONSIDERATIONS</th>\n",
              "      <th>ASK_AMT</th>\n",
              "      <th>IS_SUCCESSFUL</th>\n",
              "    </tr>\n",
              "  </thead>\n",
              "  <tbody>\n",
              "    <tr>\n",
              "      <th>0</th>\n",
              "      <td>10520599</td>\n",
              "      <td>BLUE KNIGHTS MOTORCYCLE CLUB</td>\n",
              "      <td>T10</td>\n",
              "      <td>Independent</td>\n",
              "      <td>C1000</td>\n",
              "      <td>ProductDev</td>\n",
              "      <td>Association</td>\n",
              "      <td>1</td>\n",
              "      <td>0</td>\n",
              "      <td>N</td>\n",
              "      <td>5000</td>\n",
              "      <td>1</td>\n",
              "    </tr>\n",
              "    <tr>\n",
              "      <th>1</th>\n",
              "      <td>10531628</td>\n",
              "      <td>AMERICAN CHESAPEAKE CLUB CHARITABLE TR</td>\n",
              "      <td>T3</td>\n",
              "      <td>Independent</td>\n",
              "      <td>C2000</td>\n",
              "      <td>Preservation</td>\n",
              "      <td>Co-operative</td>\n",
              "      <td>1</td>\n",
              "      <td>1-9999</td>\n",
              "      <td>N</td>\n",
              "      <td>108590</td>\n",
              "      <td>1</td>\n",
              "    </tr>\n",
              "    <tr>\n",
              "      <th>2</th>\n",
              "      <td>10547893</td>\n",
              "      <td>ST CLOUD PROFESSIONAL FIREFIGHTERS</td>\n",
              "      <td>T5</td>\n",
              "      <td>CompanySponsored</td>\n",
              "      <td>C3000</td>\n",
              "      <td>ProductDev</td>\n",
              "      <td>Association</td>\n",
              "      <td>1</td>\n",
              "      <td>0</td>\n",
              "      <td>N</td>\n",
              "      <td>5000</td>\n",
              "      <td>0</td>\n",
              "    </tr>\n",
              "    <tr>\n",
              "      <th>3</th>\n",
              "      <td>10553066</td>\n",
              "      <td>SOUTHSIDE ATHLETIC ASSOCIATION</td>\n",
              "      <td>T3</td>\n",
              "      <td>CompanySponsored</td>\n",
              "      <td>C2000</td>\n",
              "      <td>Preservation</td>\n",
              "      <td>Trust</td>\n",
              "      <td>1</td>\n",
              "      <td>10000-24999</td>\n",
              "      <td>N</td>\n",
              "      <td>6692</td>\n",
              "      <td>1</td>\n",
              "    </tr>\n",
              "    <tr>\n",
              "      <th>4</th>\n",
              "      <td>10556103</td>\n",
              "      <td>GENETIC RESEARCH INSTITUTE OF THE DESERT</td>\n",
              "      <td>T3</td>\n",
              "      <td>Independent</td>\n",
              "      <td>C1000</td>\n",
              "      <td>Heathcare</td>\n",
              "      <td>Trust</td>\n",
              "      <td>1</td>\n",
              "      <td>100000-499999</td>\n",
              "      <td>N</td>\n",
              "      <td>142590</td>\n",
              "      <td>1</td>\n",
              "    </tr>\n",
              "  </tbody>\n",
              "</table>\n",
              "</div>\n",
              "      <button class=\"colab-df-convert\" onclick=\"convertToInteractive('df-1840bdfc-421c-4405-bd4d-7f3b428844a2')\"\n",
              "              title=\"Convert this dataframe to an interactive table.\"\n",
              "              style=\"display:none;\">\n",
              "\n",
              "  <svg xmlns=\"http://www.w3.org/2000/svg\" height=\"24px\"viewBox=\"0 0 24 24\"\n",
              "       width=\"24px\">\n",
              "    <path d=\"M0 0h24v24H0V0z\" fill=\"none\"/>\n",
              "    <path d=\"M18.56 5.44l.94 2.06.94-2.06 2.06-.94-2.06-.94-.94-2.06-.94 2.06-2.06.94zm-11 1L8.5 8.5l.94-2.06 2.06-.94-2.06-.94L8.5 2.5l-.94 2.06-2.06.94zm10 10l.94 2.06.94-2.06 2.06-.94-2.06-.94-.94-2.06-.94 2.06-2.06.94z\"/><path d=\"M17.41 7.96l-1.37-1.37c-.4-.4-.92-.59-1.43-.59-.52 0-1.04.2-1.43.59L10.3 9.45l-7.72 7.72c-.78.78-.78 2.05 0 2.83L4 21.41c.39.39.9.59 1.41.59.51 0 1.02-.2 1.41-.59l7.78-7.78 2.81-2.81c.8-.78.8-2.07 0-2.86zM5.41 20L4 18.59l7.72-7.72 1.47 1.35L5.41 20z\"/>\n",
              "  </svg>\n",
              "      </button>\n",
              "\n",
              "\n",
              "\n",
              "    <div id=\"df-2ff259a5-1db3-44d2-a268-c63e8a8b7cd2\">\n",
              "      <button class=\"colab-df-quickchart\" onclick=\"quickchart('df-2ff259a5-1db3-44d2-a268-c63e8a8b7cd2')\"\n",
              "              title=\"Suggest charts.\"\n",
              "              style=\"display:none;\">\n",
              "\n",
              "<svg xmlns=\"http://www.w3.org/2000/svg\" height=\"24px\"viewBox=\"0 0 24 24\"\n",
              "     width=\"24px\">\n",
              "    <g>\n",
              "        <path d=\"M19 3H5c-1.1 0-2 .9-2 2v14c0 1.1.9 2 2 2h14c1.1 0 2-.9 2-2V5c0-1.1-.9-2-2-2zM9 17H7v-7h2v7zm4 0h-2V7h2v10zm4 0h-2v-4h2v4z\"/>\n",
              "    </g>\n",
              "</svg>\n",
              "      </button>\n",
              "    </div>\n",
              "\n",
              "<style>\n",
              "  .colab-df-quickchart {\n",
              "    background-color: #E8F0FE;\n",
              "    border: none;\n",
              "    border-radius: 50%;\n",
              "    cursor: pointer;\n",
              "    display: none;\n",
              "    fill: #1967D2;\n",
              "    height: 32px;\n",
              "    padding: 0 0 0 0;\n",
              "    width: 32px;\n",
              "  }\n",
              "\n",
              "  .colab-df-quickchart:hover {\n",
              "    background-color: #E2EBFA;\n",
              "    box-shadow: 0px 1px 2px rgba(60, 64, 67, 0.3), 0px 1px 3px 1px rgba(60, 64, 67, 0.15);\n",
              "    fill: #174EA6;\n",
              "  }\n",
              "\n",
              "  [theme=dark] .colab-df-quickchart {\n",
              "    background-color: #3B4455;\n",
              "    fill: #D2E3FC;\n",
              "  }\n",
              "\n",
              "  [theme=dark] .colab-df-quickchart:hover {\n",
              "    background-color: #434B5C;\n",
              "    box-shadow: 0px 1px 3px 1px rgba(0, 0, 0, 0.15);\n",
              "    filter: drop-shadow(0px 1px 2px rgba(0, 0, 0, 0.3));\n",
              "    fill: #FFFFFF;\n",
              "  }\n",
              "</style>\n",
              "\n",
              "    <script>\n",
              "      async function quickchart(key) {\n",
              "        const containerElement = document.querySelector('#' + key);\n",
              "        const charts = await google.colab.kernel.invokeFunction(\n",
              "            'suggestCharts', [key], {});\n",
              "      }\n",
              "    </script>\n",
              "\n",
              "      <script>\n",
              "\n",
              "function displayQuickchartButton(domScope) {\n",
              "  let quickchartButtonEl =\n",
              "    domScope.querySelector('#df-2ff259a5-1db3-44d2-a268-c63e8a8b7cd2 button.colab-df-quickchart');\n",
              "  quickchartButtonEl.style.display =\n",
              "    google.colab.kernel.accessAllowed ? 'block' : 'none';\n",
              "}\n",
              "\n",
              "        displayQuickchartButton(document);\n",
              "      </script>\n",
              "      <style>\n",
              "    .colab-df-container {\n",
              "      display:flex;\n",
              "      flex-wrap:wrap;\n",
              "      gap: 12px;\n",
              "    }\n",
              "\n",
              "    .colab-df-convert {\n",
              "      background-color: #E8F0FE;\n",
              "      border: none;\n",
              "      border-radius: 50%;\n",
              "      cursor: pointer;\n",
              "      display: none;\n",
              "      fill: #1967D2;\n",
              "      height: 32px;\n",
              "      padding: 0 0 0 0;\n",
              "      width: 32px;\n",
              "    }\n",
              "\n",
              "    .colab-df-convert:hover {\n",
              "      background-color: #E2EBFA;\n",
              "      box-shadow: 0px 1px 2px rgba(60, 64, 67, 0.3), 0px 1px 3px 1px rgba(60, 64, 67, 0.15);\n",
              "      fill: #174EA6;\n",
              "    }\n",
              "\n",
              "    [theme=dark] .colab-df-convert {\n",
              "      background-color: #3B4455;\n",
              "      fill: #D2E3FC;\n",
              "    }\n",
              "\n",
              "    [theme=dark] .colab-df-convert:hover {\n",
              "      background-color: #434B5C;\n",
              "      box-shadow: 0px 1px 3px 1px rgba(0, 0, 0, 0.15);\n",
              "      filter: drop-shadow(0px 1px 2px rgba(0, 0, 0, 0.3));\n",
              "      fill: #FFFFFF;\n",
              "    }\n",
              "  </style>\n",
              "\n",
              "      <script>\n",
              "        const buttonEl =\n",
              "          document.querySelector('#df-1840bdfc-421c-4405-bd4d-7f3b428844a2 button.colab-df-convert');\n",
              "        buttonEl.style.display =\n",
              "          google.colab.kernel.accessAllowed ? 'block' : 'none';\n",
              "\n",
              "        async function convertToInteractive(key) {\n",
              "          const element = document.querySelector('#df-1840bdfc-421c-4405-bd4d-7f3b428844a2');\n",
              "          const dataTable =\n",
              "            await google.colab.kernel.invokeFunction('convertToInteractive',\n",
              "                                                     [key], {});\n",
              "          if (!dataTable) return;\n",
              "\n",
              "          const docLinkHtml = 'Like what you see? Visit the ' +\n",
              "            '<a target=\"_blank\" href=https://colab.research.google.com/notebooks/data_table.ipynb>data table notebook</a>'\n",
              "            + ' to learn more about interactive tables.';\n",
              "          element.innerHTML = '';\n",
              "          dataTable['output_type'] = 'display_data';\n",
              "          await google.colab.output.renderOutput(dataTable, element);\n",
              "          const docLink = document.createElement('div');\n",
              "          docLink.innerHTML = docLinkHtml;\n",
              "          element.appendChild(docLink);\n",
              "        }\n",
              "      </script>\n",
              "    </div>\n",
              "  </div>\n"
            ]
          },
          "metadata": {},
          "execution_count": 1
        }
      ],
      "source": [
        "# Import our dependencies\n",
        "from sklearn.model_selection import train_test_split\n",
        "from sklearn.preprocessing import StandardScaler\n",
        "import tensorflow as tf\n",
        "import numpy as np\n",
        "import pandas as pd\n",
        "from sklearn.ensemble import RandomForestClassifier\n",
        "import seaborn as sns\n",
        "import matplotlib.pyplot as plt\n",
        "from tensorflow.keras.models import Sequential\n",
        "from tensorflow.keras.layers import Dense\n",
        "from sklearn.decomposition import PCA\n",
        "from sklearn.preprocessing import StandardScaler\n",
        "\n",
        "#  Import and read the charity_data.csv.\n",
        "application_df = pd.read_csv(\"https://static.bc-edx.com/data/dl-1-2/m21/lms/starter/charity_data.csv\")\n",
        "application_df.head()"
      ]
    },
    {
      "cell_type": "code",
      "execution_count": 2,
      "metadata": {
        "id": "xtq79cQL40-J"
      },
      "outputs": [],
      "source": [
        "from tensorflow.keras.callbacks import Callback\n",
        "\n",
        "class SaveWeightsCallback(Callback):\n",
        "    def __init__(self):\n",
        "        super(SaveWeightsCallback, self).__init__()\n",
        "\n",
        "    def on_epoch_end(self, epoch, logs=None):\n",
        "        if epoch % 5 == 0:  # Save weights every five epochs\n",
        "            self.model.save_weights(f'weights_epoch_{epoch}.h5')\n",
        "            print(f'Saved weights at epoch {epoch}')"
      ]
    },
    {
      "cell_type": "code",
      "execution_count": 3,
      "metadata": {
        "id": "JXUfJ2N1eqK_"
      },
      "outputs": [],
      "source": [
        "# Drop the non-beneficial ID columns, 'EIN' and 'NAME'.\n",
        "application_df.drop(['EIN', 'NAME'], axis=1, inplace=True)"
      ]
    },
    {
      "cell_type": "code",
      "execution_count": 4,
      "metadata": {
        "colab": {
          "base_uri": "https://localhost:8080/"
        },
        "id": "jbQAP8BoeqK_",
        "outputId": "42c4f257-555e-4964-c215-e690c1fc9d45"
      },
      "outputs": [
        {
          "output_type": "stream",
          "name": "stdout",
          "text": [
            "APPLICATION_TYPE            17\n",
            "AFFILIATION                  6\n",
            "CLASSIFICATION              71\n",
            "USE_CASE                     5\n",
            "ORGANIZATION                 4\n",
            "STATUS                       2\n",
            "INCOME_AMT                   9\n",
            "SPECIAL_CONSIDERATIONS       2\n",
            "ASK_AMT                   8747\n",
            "IS_SUCCESSFUL                2\n",
            "dtype: int64\n"
          ]
        }
      ],
      "source": [
        "# Determine the number of unique values in each column.\n",
        "unique_counts = application_df.nunique()\n",
        "\n",
        "# Print the number of unique values in each column.\n",
        "print(unique_counts)"
      ]
    },
    {
      "cell_type": "code",
      "execution_count": 5,
      "metadata": {
        "colab": {
          "base_uri": "https://localhost:8080/"
        },
        "id": "G5X3BnA2eqLB",
        "outputId": "176803d0-aa10-4a0b-b2d2-52d24addf4fa"
      },
      "outputs": [
        {
          "output_type": "stream",
          "name": "stdout",
          "text": [
            "T3     27037\n",
            "T4      1542\n",
            "T6      1216\n",
            "T5      1173\n",
            "T19     1065\n",
            "T8       737\n",
            "T7       725\n",
            "T10      528\n",
            "T9       156\n",
            "T13       66\n",
            "T12       27\n",
            "T2        16\n",
            "T25        3\n",
            "T14        3\n",
            "T29        2\n",
            "T15        2\n",
            "T17        1\n",
            "Name: APPLICATION_TYPE, dtype: int64\n"
          ]
        }
      ],
      "source": [
        "# Look at APPLICATION_TYPE value counts for binning\n",
        "app_type_counts = application_df['APPLICATION_TYPE'].value_counts()\n",
        "print(app_type_counts)"
      ]
    },
    {
      "cell_type": "code",
      "execution_count": 6,
      "metadata": {
        "colab": {
          "base_uri": "https://localhost:8080/"
        },
        "id": "wO2oXkuceqLB",
        "outputId": "74d397b0-16a2-4da6-f0b0-c75418a8cab2"
      },
      "outputs": [
        {
          "output_type": "stream",
          "name": "stdout",
          "text": [
            "['T9', 'T13', 'T12', 'T2', 'T25', 'T14', 'T29', 'T15', 'T17']\n"
          ]
        },
        {
          "output_type": "execute_result",
          "data": {
            "text/plain": [
              "T3       27037\n",
              "T4        1542\n",
              "T6        1216\n",
              "T5        1173\n",
              "T19       1065\n",
              "T8         737\n",
              "T7         725\n",
              "T10        528\n",
              "Other      276\n",
              "Name: APPLICATION_TYPE, dtype: int64"
            ]
          },
          "metadata": {},
          "execution_count": 6
        }
      ],
      "source": [
        "# Choose a cutoff value and create a list of application types to be replaced\n",
        "# use the variable name `application_types_to_replace`\n",
        "cutoff_value = 500\n",
        "\n",
        "# Get the application types with counts below the cutoff\n",
        "application_types_to_replace = app_type_counts[app_type_counts < cutoff_value].index.tolist()\n",
        "\n",
        "# Print the application types to be replaced\n",
        "print(application_types_to_replace)\n",
        "\n",
        "# Replace in dataframe\n",
        "for app in application_types_to_replace:\n",
        "    application_df['APPLICATION_TYPE'] = application_df['APPLICATION_TYPE'].replace(app,\"Other\")\n",
        "\n",
        "# Check to make sure binning was successful\n",
        "application_df['APPLICATION_TYPE'].value_counts()"
      ]
    },
    {
      "cell_type": "code",
      "execution_count": 7,
      "metadata": {
        "colab": {
          "base_uri": "https://localhost:8080/"
        },
        "id": "MdsbBMkPeqLC",
        "outputId": "03cceaed-b6a8-4634-dfbe-43ab7e0130cf"
      },
      "outputs": [
        {
          "output_type": "stream",
          "name": "stdout",
          "text": [
            "C1000    17326\n",
            "C2000     6074\n",
            "C1200     4837\n",
            "C3000     1918\n",
            "C2100     1883\n",
            "         ...  \n",
            "C4120        1\n",
            "C8210        1\n",
            "C2561        1\n",
            "C4500        1\n",
            "C2150        1\n",
            "Name: CLASSIFICATION, Length: 71, dtype: int64\n"
          ]
        }
      ],
      "source": [
        "# Look at CLASSIFICATION value counts for binning\n",
        "classification_counts = application_df['CLASSIFICATION'].value_counts()\n",
        "print(classification_counts)"
      ]
    },
    {
      "cell_type": "code",
      "execution_count": 8,
      "metadata": {
        "colab": {
          "base_uri": "https://localhost:8080/"
        },
        "id": "r4ynRJPoeqLD",
        "outputId": "9a3b407b-4f72-4b1c-891b-8bab09cf0c76"
      },
      "outputs": [
        {
          "output_type": "stream",
          "name": "stdout",
          "text": [
            "C1000    17326\n",
            "C2000     6074\n",
            "C1200     4837\n",
            "C3000     1918\n",
            "C2100     1883\n",
            "C7000      777\n",
            "C1700      287\n",
            "C4000      194\n",
            "C5000      116\n",
            "C1270      114\n",
            "C2700      104\n",
            "C2800       95\n",
            "C7100       75\n",
            "C1300       58\n",
            "C1280       50\n",
            "C1230       36\n",
            "C1400       34\n",
            "C7200       32\n",
            "C2300       32\n",
            "C1240       30\n",
            "C8000       20\n",
            "C7120       18\n",
            "C1500       16\n",
            "C1800       15\n",
            "C6000       15\n",
            "C1250       14\n",
            "C8200       11\n",
            "C1238       10\n",
            "C1278       10\n",
            "C1235        9\n",
            "C1237        9\n",
            "C7210        7\n",
            "C2400        6\n",
            "C1720        6\n",
            "C4100        6\n",
            "C1257        5\n",
            "C1600        5\n",
            "C1260        3\n",
            "C2710        3\n",
            "C0           3\n",
            "C3200        2\n",
            "C1234        2\n",
            "C1246        2\n",
            "C1267        2\n",
            "C1256        2\n",
            "Name: CLASSIFICATION, dtype: int64\n"
          ]
        }
      ],
      "source": [
        "# You may find it helpful to look at CLASSIFICATION value counts >1\n",
        "classification_counts_gt1 = classification_counts[classification_counts > 1]\n",
        "print(classification_counts_gt1)"
      ]
    },
    {
      "cell_type": "code",
      "execution_count": 9,
      "metadata": {
        "colab": {
          "base_uri": "https://localhost:8080/"
        },
        "id": "s-X1Q7BkeqLE",
        "outputId": "e1a528f9-bbe8-4d28-9e0d-26a978ed57d9"
      },
      "outputs": [
        {
          "output_type": "stream",
          "name": "stdout",
          "text": [
            "['C2800', 'C7100', 'C1300', 'C1280', 'C1230', 'C1400', 'C7200', 'C2300', 'C1240', 'C8000', 'C7120', 'C1500', 'C1800', 'C6000', 'C1250', 'C8200', 'C1238', 'C1278', 'C1235', 'C1237', 'C7210', 'C2400', 'C1720', 'C4100', 'C1257', 'C1600', 'C1260', 'C2710', 'C0', 'C3200', 'C1234', 'C1246', 'C1267', 'C1256', 'C2190', 'C4200', 'C2600', 'C5200', 'C1370', 'C1248', 'C6100', 'C1820', 'C1900', 'C1236', 'C3700', 'C2570', 'C1580', 'C1245', 'C2500', 'C1570', 'C1283', 'C2380', 'C1732', 'C1728', 'C2170', 'C4120', 'C8210', 'C2561', 'C4500', 'C2150']\n"
          ]
        },
        {
          "output_type": "execute_result",
          "data": {
            "text/plain": [
              "C1000    17326\n",
              "C2000     6074\n",
              "C1200     4837\n",
              "C3000     1918\n",
              "C2100     1883\n",
              "C7000      777\n",
              "Other      669\n",
              "C1700      287\n",
              "C4000      194\n",
              "C5000      116\n",
              "C1270      114\n",
              "C2700      104\n",
              "Name: CLASSIFICATION, dtype: int64"
            ]
          },
          "metadata": {},
          "execution_count": 9
        }
      ],
      "source": [
        "# Choose a cutoff value and create a list of classifications to be replaced\n",
        "# use the variable name `classifications_to_replace`\n",
        "\n",
        "# Choose a cutoff value for classifications\n",
        "cutoff_value_classification = 100\n",
        "\n",
        "# Get the classifications with counts below the cutoff\n",
        "classifications_to_replace = classification_counts[classification_counts < cutoff_value_classification].index.tolist()\n",
        "\n",
        "# Print the classifications to be replaced\n",
        "print(classifications_to_replace)\n",
        "\n",
        "# Replace in dataframe\n",
        "for cls in classifications_to_replace:\n",
        "    application_df['CLASSIFICATION'] = application_df['CLASSIFICATION'].replace(cls,\"Other\")\n",
        "\n",
        "# Check to make sure binning was successful\n",
        "application_df['CLASSIFICATION'].value_counts()"
      ]
    },
    {
      "cell_type": "code",
      "execution_count": 10,
      "metadata": {
        "colab": {
          "base_uri": "https://localhost:8080/",
          "height": 317
        },
        "id": "bP5xEM1ueqLF",
        "outputId": "482e2d5e-c163-457d-9677-e74c9affb827"
      },
      "outputs": [
        {
          "output_type": "execute_result",
          "data": {
            "text/plain": [
              "   STATUS  ASK_AMT  IS_SUCCESSFUL  APPLICATION_TYPE_Other  \\\n",
              "0       1     5000              1                     0.0   \n",
              "1       1   108590              1                     0.0   \n",
              "2       1     5000              0                     0.0   \n",
              "3       1     6692              1                     0.0   \n",
              "4       1   142590              1                     0.0   \n",
              "\n",
              "   APPLICATION_TYPE_T10  APPLICATION_TYPE_T19  APPLICATION_TYPE_T3  \\\n",
              "0                   1.0                   0.0                  0.0   \n",
              "1                   0.0                   0.0                  1.0   \n",
              "2                   0.0                   0.0                  0.0   \n",
              "3                   0.0                   0.0                  1.0   \n",
              "4                   0.0                   0.0                  1.0   \n",
              "\n",
              "   APPLICATION_TYPE_T4  APPLICATION_TYPE_T5  APPLICATION_TYPE_T6  ...  \\\n",
              "0                  0.0                  0.0                  0.0  ...   \n",
              "1                  0.0                  0.0                  0.0  ...   \n",
              "2                  0.0                  1.0                  0.0  ...   \n",
              "3                  0.0                  0.0                  0.0  ...   \n",
              "4                  0.0                  0.0                  0.0  ...   \n",
              "\n",
              "   INCOME_AMT_1-9999  INCOME_AMT_10000-24999  INCOME_AMT_100000-499999  \\\n",
              "0                0.0                     0.0                       0.0   \n",
              "1                1.0                     0.0                       0.0   \n",
              "2                0.0                     0.0                       0.0   \n",
              "3                0.0                     1.0                       0.0   \n",
              "4                0.0                     0.0                       1.0   \n",
              "\n",
              "   INCOME_AMT_10M-50M  INCOME_AMT_1M-5M  INCOME_AMT_25000-99999  \\\n",
              "0                 0.0               0.0                     0.0   \n",
              "1                 0.0               0.0                     0.0   \n",
              "2                 0.0               0.0                     0.0   \n",
              "3                 0.0               0.0                     0.0   \n",
              "4                 0.0               0.0                     0.0   \n",
              "\n",
              "   INCOME_AMT_50M+  INCOME_AMT_5M-10M  SPECIAL_CONSIDERATIONS_N  \\\n",
              "0              0.0                0.0                       1.0   \n",
              "1              0.0                0.0                       1.0   \n",
              "2              0.0                0.0                       1.0   \n",
              "3              0.0                0.0                       1.0   \n",
              "4              0.0                0.0                       1.0   \n",
              "\n",
              "   SPECIAL_CONSIDERATIONS_Y  \n",
              "0                       0.0  \n",
              "1                       0.0  \n",
              "2                       0.0  \n",
              "3                       0.0  \n",
              "4                       0.0  \n",
              "\n",
              "[5 rows x 50 columns]"
            ],
            "text/html": [
              "\n",
              "\n",
              "  <div id=\"df-8db6d453-cb12-4e91-9f4d-e677dacc90fd\">\n",
              "    <div class=\"colab-df-container\">\n",
              "      <div>\n",
              "<style scoped>\n",
              "    .dataframe tbody tr th:only-of-type {\n",
              "        vertical-align: middle;\n",
              "    }\n",
              "\n",
              "    .dataframe tbody tr th {\n",
              "        vertical-align: top;\n",
              "    }\n",
              "\n",
              "    .dataframe thead th {\n",
              "        text-align: right;\n",
              "    }\n",
              "</style>\n",
              "<table border=\"1\" class=\"dataframe\">\n",
              "  <thead>\n",
              "    <tr style=\"text-align: right;\">\n",
              "      <th></th>\n",
              "      <th>STATUS</th>\n",
              "      <th>ASK_AMT</th>\n",
              "      <th>IS_SUCCESSFUL</th>\n",
              "      <th>APPLICATION_TYPE_Other</th>\n",
              "      <th>APPLICATION_TYPE_T10</th>\n",
              "      <th>APPLICATION_TYPE_T19</th>\n",
              "      <th>APPLICATION_TYPE_T3</th>\n",
              "      <th>APPLICATION_TYPE_T4</th>\n",
              "      <th>APPLICATION_TYPE_T5</th>\n",
              "      <th>APPLICATION_TYPE_T6</th>\n",
              "      <th>...</th>\n",
              "      <th>INCOME_AMT_1-9999</th>\n",
              "      <th>INCOME_AMT_10000-24999</th>\n",
              "      <th>INCOME_AMT_100000-499999</th>\n",
              "      <th>INCOME_AMT_10M-50M</th>\n",
              "      <th>INCOME_AMT_1M-5M</th>\n",
              "      <th>INCOME_AMT_25000-99999</th>\n",
              "      <th>INCOME_AMT_50M+</th>\n",
              "      <th>INCOME_AMT_5M-10M</th>\n",
              "      <th>SPECIAL_CONSIDERATIONS_N</th>\n",
              "      <th>SPECIAL_CONSIDERATIONS_Y</th>\n",
              "    </tr>\n",
              "  </thead>\n",
              "  <tbody>\n",
              "    <tr>\n",
              "      <th>0</th>\n",
              "      <td>1</td>\n",
              "      <td>5000</td>\n",
              "      <td>1</td>\n",
              "      <td>0.0</td>\n",
              "      <td>1.0</td>\n",
              "      <td>0.0</td>\n",
              "      <td>0.0</td>\n",
              "      <td>0.0</td>\n",
              "      <td>0.0</td>\n",
              "      <td>0.0</td>\n",
              "      <td>...</td>\n",
              "      <td>0.0</td>\n",
              "      <td>0.0</td>\n",
              "      <td>0.0</td>\n",
              "      <td>0.0</td>\n",
              "      <td>0.0</td>\n",
              "      <td>0.0</td>\n",
              "      <td>0.0</td>\n",
              "      <td>0.0</td>\n",
              "      <td>1.0</td>\n",
              "      <td>0.0</td>\n",
              "    </tr>\n",
              "    <tr>\n",
              "      <th>1</th>\n",
              "      <td>1</td>\n",
              "      <td>108590</td>\n",
              "      <td>1</td>\n",
              "      <td>0.0</td>\n",
              "      <td>0.0</td>\n",
              "      <td>0.0</td>\n",
              "      <td>1.0</td>\n",
              "      <td>0.0</td>\n",
              "      <td>0.0</td>\n",
              "      <td>0.0</td>\n",
              "      <td>...</td>\n",
              "      <td>1.0</td>\n",
              "      <td>0.0</td>\n",
              "      <td>0.0</td>\n",
              "      <td>0.0</td>\n",
              "      <td>0.0</td>\n",
              "      <td>0.0</td>\n",
              "      <td>0.0</td>\n",
              "      <td>0.0</td>\n",
              "      <td>1.0</td>\n",
              "      <td>0.0</td>\n",
              "    </tr>\n",
              "    <tr>\n",
              "      <th>2</th>\n",
              "      <td>1</td>\n",
              "      <td>5000</td>\n",
              "      <td>0</td>\n",
              "      <td>0.0</td>\n",
              "      <td>0.0</td>\n",
              "      <td>0.0</td>\n",
              "      <td>0.0</td>\n",
              "      <td>0.0</td>\n",
              "      <td>1.0</td>\n",
              "      <td>0.0</td>\n",
              "      <td>...</td>\n",
              "      <td>0.0</td>\n",
              "      <td>0.0</td>\n",
              "      <td>0.0</td>\n",
              "      <td>0.0</td>\n",
              "      <td>0.0</td>\n",
              "      <td>0.0</td>\n",
              "      <td>0.0</td>\n",
              "      <td>0.0</td>\n",
              "      <td>1.0</td>\n",
              "      <td>0.0</td>\n",
              "    </tr>\n",
              "    <tr>\n",
              "      <th>3</th>\n",
              "      <td>1</td>\n",
              "      <td>6692</td>\n",
              "      <td>1</td>\n",
              "      <td>0.0</td>\n",
              "      <td>0.0</td>\n",
              "      <td>0.0</td>\n",
              "      <td>1.0</td>\n",
              "      <td>0.0</td>\n",
              "      <td>0.0</td>\n",
              "      <td>0.0</td>\n",
              "      <td>...</td>\n",
              "      <td>0.0</td>\n",
              "      <td>1.0</td>\n",
              "      <td>0.0</td>\n",
              "      <td>0.0</td>\n",
              "      <td>0.0</td>\n",
              "      <td>0.0</td>\n",
              "      <td>0.0</td>\n",
              "      <td>0.0</td>\n",
              "      <td>1.0</td>\n",
              "      <td>0.0</td>\n",
              "    </tr>\n",
              "    <tr>\n",
              "      <th>4</th>\n",
              "      <td>1</td>\n",
              "      <td>142590</td>\n",
              "      <td>1</td>\n",
              "      <td>0.0</td>\n",
              "      <td>0.0</td>\n",
              "      <td>0.0</td>\n",
              "      <td>1.0</td>\n",
              "      <td>0.0</td>\n",
              "      <td>0.0</td>\n",
              "      <td>0.0</td>\n",
              "      <td>...</td>\n",
              "      <td>0.0</td>\n",
              "      <td>0.0</td>\n",
              "      <td>1.0</td>\n",
              "      <td>0.0</td>\n",
              "      <td>0.0</td>\n",
              "      <td>0.0</td>\n",
              "      <td>0.0</td>\n",
              "      <td>0.0</td>\n",
              "      <td>1.0</td>\n",
              "      <td>0.0</td>\n",
              "    </tr>\n",
              "  </tbody>\n",
              "</table>\n",
              "<p>5 rows × 50 columns</p>\n",
              "</div>\n",
              "      <button class=\"colab-df-convert\" onclick=\"convertToInteractive('df-8db6d453-cb12-4e91-9f4d-e677dacc90fd')\"\n",
              "              title=\"Convert this dataframe to an interactive table.\"\n",
              "              style=\"display:none;\">\n",
              "\n",
              "  <svg xmlns=\"http://www.w3.org/2000/svg\" height=\"24px\"viewBox=\"0 0 24 24\"\n",
              "       width=\"24px\">\n",
              "    <path d=\"M0 0h24v24H0V0z\" fill=\"none\"/>\n",
              "    <path d=\"M18.56 5.44l.94 2.06.94-2.06 2.06-.94-2.06-.94-.94-2.06-.94 2.06-2.06.94zm-11 1L8.5 8.5l.94-2.06 2.06-.94-2.06-.94L8.5 2.5l-.94 2.06-2.06.94zm10 10l.94 2.06.94-2.06 2.06-.94-2.06-.94-.94-2.06-.94 2.06-2.06.94z\"/><path d=\"M17.41 7.96l-1.37-1.37c-.4-.4-.92-.59-1.43-.59-.52 0-1.04.2-1.43.59L10.3 9.45l-7.72 7.72c-.78.78-.78 2.05 0 2.83L4 21.41c.39.39.9.59 1.41.59.51 0 1.02-.2 1.41-.59l7.78-7.78 2.81-2.81c.8-.78.8-2.07 0-2.86zM5.41 20L4 18.59l7.72-7.72 1.47 1.35L5.41 20z\"/>\n",
              "  </svg>\n",
              "      </button>\n",
              "\n",
              "\n",
              "\n",
              "    <div id=\"df-1e3540a3-de76-4ba7-b2b4-3a391dcb747d\">\n",
              "      <button class=\"colab-df-quickchart\" onclick=\"quickchart('df-1e3540a3-de76-4ba7-b2b4-3a391dcb747d')\"\n",
              "              title=\"Suggest charts.\"\n",
              "              style=\"display:none;\">\n",
              "\n",
              "<svg xmlns=\"http://www.w3.org/2000/svg\" height=\"24px\"viewBox=\"0 0 24 24\"\n",
              "     width=\"24px\">\n",
              "    <g>\n",
              "        <path d=\"M19 3H5c-1.1 0-2 .9-2 2v14c0 1.1.9 2 2 2h14c1.1 0 2-.9 2-2V5c0-1.1-.9-2-2-2zM9 17H7v-7h2v7zm4 0h-2V7h2v10zm4 0h-2v-4h2v4z\"/>\n",
              "    </g>\n",
              "</svg>\n",
              "      </button>\n",
              "    </div>\n",
              "\n",
              "<style>\n",
              "  .colab-df-quickchart {\n",
              "    background-color: #E8F0FE;\n",
              "    border: none;\n",
              "    border-radius: 50%;\n",
              "    cursor: pointer;\n",
              "    display: none;\n",
              "    fill: #1967D2;\n",
              "    height: 32px;\n",
              "    padding: 0 0 0 0;\n",
              "    width: 32px;\n",
              "  }\n",
              "\n",
              "  .colab-df-quickchart:hover {\n",
              "    background-color: #E2EBFA;\n",
              "    box-shadow: 0px 1px 2px rgba(60, 64, 67, 0.3), 0px 1px 3px 1px rgba(60, 64, 67, 0.15);\n",
              "    fill: #174EA6;\n",
              "  }\n",
              "\n",
              "  [theme=dark] .colab-df-quickchart {\n",
              "    background-color: #3B4455;\n",
              "    fill: #D2E3FC;\n",
              "  }\n",
              "\n",
              "  [theme=dark] .colab-df-quickchart:hover {\n",
              "    background-color: #434B5C;\n",
              "    box-shadow: 0px 1px 3px 1px rgba(0, 0, 0, 0.15);\n",
              "    filter: drop-shadow(0px 1px 2px rgba(0, 0, 0, 0.3));\n",
              "    fill: #FFFFFF;\n",
              "  }\n",
              "</style>\n",
              "\n",
              "    <script>\n",
              "      async function quickchart(key) {\n",
              "        const containerElement = document.querySelector('#' + key);\n",
              "        const charts = await google.colab.kernel.invokeFunction(\n",
              "            'suggestCharts', [key], {});\n",
              "      }\n",
              "    </script>\n",
              "\n",
              "      <script>\n",
              "\n",
              "function displayQuickchartButton(domScope) {\n",
              "  let quickchartButtonEl =\n",
              "    domScope.querySelector('#df-1e3540a3-de76-4ba7-b2b4-3a391dcb747d button.colab-df-quickchart');\n",
              "  quickchartButtonEl.style.display =\n",
              "    google.colab.kernel.accessAllowed ? 'block' : 'none';\n",
              "}\n",
              "\n",
              "        displayQuickchartButton(document);\n",
              "      </script>\n",
              "      <style>\n",
              "    .colab-df-container {\n",
              "      display:flex;\n",
              "      flex-wrap:wrap;\n",
              "      gap: 12px;\n",
              "    }\n",
              "\n",
              "    .colab-df-convert {\n",
              "      background-color: #E8F0FE;\n",
              "      border: none;\n",
              "      border-radius: 50%;\n",
              "      cursor: pointer;\n",
              "      display: none;\n",
              "      fill: #1967D2;\n",
              "      height: 32px;\n",
              "      padding: 0 0 0 0;\n",
              "      width: 32px;\n",
              "    }\n",
              "\n",
              "    .colab-df-convert:hover {\n",
              "      background-color: #E2EBFA;\n",
              "      box-shadow: 0px 1px 2px rgba(60, 64, 67, 0.3), 0px 1px 3px 1px rgba(60, 64, 67, 0.15);\n",
              "      fill: #174EA6;\n",
              "    }\n",
              "\n",
              "    [theme=dark] .colab-df-convert {\n",
              "      background-color: #3B4455;\n",
              "      fill: #D2E3FC;\n",
              "    }\n",
              "\n",
              "    [theme=dark] .colab-df-convert:hover {\n",
              "      background-color: #434B5C;\n",
              "      box-shadow: 0px 1px 3px 1px rgba(0, 0, 0, 0.15);\n",
              "      filter: drop-shadow(0px 1px 2px rgba(0, 0, 0, 0.3));\n",
              "      fill: #FFFFFF;\n",
              "    }\n",
              "  </style>\n",
              "\n",
              "      <script>\n",
              "        const buttonEl =\n",
              "          document.querySelector('#df-8db6d453-cb12-4e91-9f4d-e677dacc90fd button.colab-df-convert');\n",
              "        buttonEl.style.display =\n",
              "          google.colab.kernel.accessAllowed ? 'block' : 'none';\n",
              "\n",
              "        async function convertToInteractive(key) {\n",
              "          const element = document.querySelector('#df-8db6d453-cb12-4e91-9f4d-e677dacc90fd');\n",
              "          const dataTable =\n",
              "            await google.colab.kernel.invokeFunction('convertToInteractive',\n",
              "                                                     [key], {});\n",
              "          if (!dataTable) return;\n",
              "\n",
              "          const docLinkHtml = 'Like what you see? Visit the ' +\n",
              "            '<a target=\"_blank\" href=https://colab.research.google.com/notebooks/data_table.ipynb>data table notebook</a>'\n",
              "            + ' to learn more about interactive tables.';\n",
              "          element.innerHTML = '';\n",
              "          dataTable['output_type'] = 'display_data';\n",
              "          await google.colab.output.renderOutput(dataTable, element);\n",
              "          const docLink = document.createElement('div');\n",
              "          docLink.innerHTML = docLinkHtml;\n",
              "          element.appendChild(docLink);\n",
              "        }\n",
              "      </script>\n",
              "    </div>\n",
              "  </div>\n"
            ]
          },
          "metadata": {},
          "execution_count": 10
        }
      ],
      "source": [
        "# Convert categorical data to numeric with pd.get_dummies\n",
        "application_df_encoded = pd.get_dummies(application_df,dtype=float)\n",
        "\n",
        "# Display the first few rows of the encoded DataFrame\n",
        "application_df_encoded.head()"
      ]
    },
    {
      "cell_type": "code",
      "execution_count": 11,
      "metadata": {
        "colab": {
          "base_uri": "https://localhost:8080/"
        },
        "id": "j2xivqUceqLG",
        "outputId": "666d26de-1573-43d4-ba5e-0b66904dac28"
      },
      "outputs": [
        {
          "output_type": "stream",
          "name": "stdout",
          "text": [
            "X_train shape: (27439, 49)\n",
            "X_test shape: (6860, 49)\n",
            "y_train shape: (27439,)\n",
            "y_test shape: (6860,)\n"
          ]
        }
      ],
      "source": [
        "# Split our preprocessed data into our features and target arrays\n",
        "X = application_df_encoded.drop('IS_SUCCESSFUL', axis=1)  # Features (remove the target column)\n",
        "y = application_df_encoded['IS_SUCCESSFUL']              # Target\n",
        "\n",
        "# Split the preprocessed data into a training and testing dataset\n",
        "X_train, X_test, y_train, y_test = train_test_split(X, y, test_size=0.2, random_state=42)\n",
        "\n",
        "# Display the shapes of the training and testing datasets\n",
        "print(\"X_train shape:\", X_train.shape)\n",
        "print(\"X_test shape:\", X_test.shape)\n",
        "print(\"y_train shape:\", y_train.shape)\n",
        "print(\"y_test shape:\", y_test.shape)"
      ]
    },
    {
      "cell_type": "code",
      "execution_count": 12,
      "metadata": {
        "colab": {
          "base_uri": "https://localhost:8080/",
          "height": 75
        },
        "id": "kRieTO7gKA4K",
        "outputId": "23f65199-189d-46c1-cd93-017145859973"
      },
      "outputs": [
        {
          "output_type": "execute_result",
          "data": {
            "text/plain": [
              "RandomForestClassifier()"
            ],
            "text/html": [
              "<style>#sk-container-id-1 {color: black;background-color: white;}#sk-container-id-1 pre{padding: 0;}#sk-container-id-1 div.sk-toggleable {background-color: white;}#sk-container-id-1 label.sk-toggleable__label {cursor: pointer;display: block;width: 100%;margin-bottom: 0;padding: 0.3em;box-sizing: border-box;text-align: center;}#sk-container-id-1 label.sk-toggleable__label-arrow:before {content: \"▸\";float: left;margin-right: 0.25em;color: #696969;}#sk-container-id-1 label.sk-toggleable__label-arrow:hover:before {color: black;}#sk-container-id-1 div.sk-estimator:hover label.sk-toggleable__label-arrow:before {color: black;}#sk-container-id-1 div.sk-toggleable__content {max-height: 0;max-width: 0;overflow: hidden;text-align: left;background-color: #f0f8ff;}#sk-container-id-1 div.sk-toggleable__content pre {margin: 0.2em;color: black;border-radius: 0.25em;background-color: #f0f8ff;}#sk-container-id-1 input.sk-toggleable__control:checked~div.sk-toggleable__content {max-height: 200px;max-width: 100%;overflow: auto;}#sk-container-id-1 input.sk-toggleable__control:checked~label.sk-toggleable__label-arrow:before {content: \"▾\";}#sk-container-id-1 div.sk-estimator input.sk-toggleable__control:checked~label.sk-toggleable__label {background-color: #d4ebff;}#sk-container-id-1 div.sk-label input.sk-toggleable__control:checked~label.sk-toggleable__label {background-color: #d4ebff;}#sk-container-id-1 input.sk-hidden--visually {border: 0;clip: rect(1px 1px 1px 1px);clip: rect(1px, 1px, 1px, 1px);height: 1px;margin: -1px;overflow: hidden;padding: 0;position: absolute;width: 1px;}#sk-container-id-1 div.sk-estimator {font-family: monospace;background-color: #f0f8ff;border: 1px dotted black;border-radius: 0.25em;box-sizing: border-box;margin-bottom: 0.5em;}#sk-container-id-1 div.sk-estimator:hover {background-color: #d4ebff;}#sk-container-id-1 div.sk-parallel-item::after {content: \"\";width: 100%;border-bottom: 1px solid gray;flex-grow: 1;}#sk-container-id-1 div.sk-label:hover label.sk-toggleable__label {background-color: #d4ebff;}#sk-container-id-1 div.sk-serial::before {content: \"\";position: absolute;border-left: 1px solid gray;box-sizing: border-box;top: 0;bottom: 0;left: 50%;z-index: 0;}#sk-container-id-1 div.sk-serial {display: flex;flex-direction: column;align-items: center;background-color: white;padding-right: 0.2em;padding-left: 0.2em;position: relative;}#sk-container-id-1 div.sk-item {position: relative;z-index: 1;}#sk-container-id-1 div.sk-parallel {display: flex;align-items: stretch;justify-content: center;background-color: white;position: relative;}#sk-container-id-1 div.sk-item::before, #sk-container-id-1 div.sk-parallel-item::before {content: \"\";position: absolute;border-left: 1px solid gray;box-sizing: border-box;top: 0;bottom: 0;left: 50%;z-index: -1;}#sk-container-id-1 div.sk-parallel-item {display: flex;flex-direction: column;z-index: 1;position: relative;background-color: white;}#sk-container-id-1 div.sk-parallel-item:first-child::after {align-self: flex-end;width: 50%;}#sk-container-id-1 div.sk-parallel-item:last-child::after {align-self: flex-start;width: 50%;}#sk-container-id-1 div.sk-parallel-item:only-child::after {width: 0;}#sk-container-id-1 div.sk-dashed-wrapped {border: 1px dashed gray;margin: 0 0.4em 0.5em 0.4em;box-sizing: border-box;padding-bottom: 0.4em;background-color: white;}#sk-container-id-1 div.sk-label label {font-family: monospace;font-weight: bold;display: inline-block;line-height: 1.2em;}#sk-container-id-1 div.sk-label-container {text-align: center;}#sk-container-id-1 div.sk-container {/* jupyter's `normalize.less` sets `[hidden] { display: none; }` but bootstrap.min.css set `[hidden] { display: none !important; }` so we also need the `!important` here to be able to override the default hidden behavior on the sphinx rendered scikit-learn.org. See: https://github.com/scikit-learn/scikit-learn/issues/21755 */display: inline-block !important;position: relative;}#sk-container-id-1 div.sk-text-repr-fallback {display: none;}</style><div id=\"sk-container-id-1\" class=\"sk-top-container\"><div class=\"sk-text-repr-fallback\"><pre>RandomForestClassifier()</pre><b>In a Jupyter environment, please rerun this cell to show the HTML representation or trust the notebook. <br />On GitHub, the HTML representation is unable to render, please try loading this page with nbviewer.org.</b></div><div class=\"sk-container\" hidden><div class=\"sk-item\"><div class=\"sk-estimator sk-toggleable\"><input class=\"sk-toggleable__control sk-hidden--visually\" id=\"sk-estimator-id-1\" type=\"checkbox\" checked><label for=\"sk-estimator-id-1\" class=\"sk-toggleable__label sk-toggleable__label-arrow\">RandomForestClassifier</label><div class=\"sk-toggleable__content\"><pre>RandomForestClassifier()</pre></div></div></div></div></div>"
            ]
          },
          "metadata": {},
          "execution_count": 12
        }
      ],
      "source": [
        "# Instantiate and train a Random Forest classifier\n",
        "rf = RandomForestClassifier()\n",
        "rf.fit(X_train, y_train)"
      ]
    },
    {
      "cell_type": "code",
      "execution_count": 13,
      "metadata": {
        "colab": {
          "base_uri": "https://localhost:8080/"
        },
        "id": "gFnOlaw8KGCz",
        "outputId": "4c3410e7-67e2-4de6-9577-74e3c2b00c27"
      },
      "outputs": [
        {
          "output_type": "stream",
          "name": "stdout",
          "text": [
            "STATUS: 0.00019230478676246287\n",
            "ASK_AMT: 0.3971215745397214\n",
            "APPLICATION_TYPE_Other: 0.0019454578329486522\n",
            "APPLICATION_TYPE_T10: 0.024128729219280238\n",
            "APPLICATION_TYPE_T19: 0.017799248064816958\n",
            "APPLICATION_TYPE_T3: 0.013933237791341847\n",
            "APPLICATION_TYPE_T4: 0.018782852435597106\n",
            "APPLICATION_TYPE_T5: 0.026830596254963996\n",
            "APPLICATION_TYPE_T6: 0.01161819843256334\n",
            "APPLICATION_TYPE_T7: 0.0038910772609393874\n",
            "APPLICATION_TYPE_T8: 0.004742419914589537\n",
            "AFFILIATION_CompanySponsored: 0.12089829427468671\n",
            "AFFILIATION_Family/Parent: 0.0013317861982624806\n",
            "AFFILIATION_Independent: 0.13420843171356095\n",
            "AFFILIATION_National: 0.0007264983223588908\n",
            "AFFILIATION_Other: 8.914901589963279e-05\n",
            "AFFILIATION_Regional: 0.000461381886028831\n",
            "CLASSIFICATION_C1000: 0.014073956236019314\n",
            "CLASSIFICATION_C1200: 0.00905951024201896\n",
            "CLASSIFICATION_C1270: 0.000668077291760619\n",
            "CLASSIFICATION_C1700: 0.0031301704410368284\n",
            "CLASSIFICATION_C2000: 0.017268551025678026\n",
            "CLASSIFICATION_C2100: 0.020109685925027387\n",
            "CLASSIFICATION_C2700: 0.002040726739906327\n",
            "CLASSIFICATION_C3000: 0.007910940250081317\n",
            "CLASSIFICATION_C4000: 0.0018568247446192395\n",
            "CLASSIFICATION_C5000: 0.0025443709471064087\n",
            "CLASSIFICATION_C7000: 0.0127265394015907\n",
            "CLASSIFICATION_Other: 0.004565608049656675\n",
            "USE_CASE_CommunityServ: 0.0033475303209359146\n",
            "USE_CASE_Heathcare: 0.0013998455629759127\n",
            "USE_CASE_Other: 6.339308484405165e-05\n",
            "USE_CASE_Preservation: 0.01059562279358791\n",
            "USE_CASE_ProductDev: 0.012099750899298177\n",
            "ORGANIZATION_Association: 0.02620521668295224\n",
            "ORGANIZATION_Co-operative: 0.003140840242073188\n",
            "ORGANIZATION_Corporation: 0.0005179587838666562\n",
            "ORGANIZATION_Trust: 0.020520727802028783\n",
            "INCOME_AMT_0: 0.009357883133752128\n",
            "INCOME_AMT_1-9999: 0.006275038436106344\n",
            "INCOME_AMT_10000-24999: 0.0036217646594789705\n",
            "INCOME_AMT_100000-499999: 0.006304614222553236\n",
            "INCOME_AMT_10M-50M: 0.0030010730301635474\n",
            "INCOME_AMT_1M-5M: 0.006373180655383032\n",
            "INCOME_AMT_25000-99999: 0.0071719187267026245\n",
            "INCOME_AMT_50M+: 0.0020196324838606078\n",
            "INCOME_AMT_5M-10M: 0.0023780835324037687\n",
            "SPECIAL_CONSIDERATIONS_N: 0.00045744758237371933\n",
            "SPECIAL_CONSIDERATIONS_Y: 0.0004922781258348767\n"
          ]
        }
      ],
      "source": [
        "# Get feature importances\n",
        "feature_importances = rf.feature_importances_\n",
        "\n",
        "# Print feature importances\n",
        "for feature_name, importance in zip(X_train.columns, feature_importances):\n",
        "    print(f\"{feature_name}: {importance}\")"
      ]
    },
    {
      "cell_type": "code",
      "execution_count": 14,
      "metadata": {
        "colab": {
          "base_uri": "https://localhost:8080/",
          "height": 607
        },
        "id": "t9c1oFc7KGFV",
        "outputId": "8efb2478-468b-489e-ff56-3b1387b909ec"
      },
      "outputs": [
        {
          "output_type": "display_data",
          "data": {
            "text/plain": [
              "<Figure size 1000x600 with 1 Axes>"
            ],
            "image/png": "[encoded data removed]"
          },
          "metadata": {}
        }
      ],
      "source": [
        "feature_importances = rf.feature_importances_\n",
        "feature_names = X_train.columns\n",
        "\n",
        "# Create a DataFrame\n",
        "feature_importance_df = pd.DataFrame({'Feature': feature_names, 'Importance': feature_importances})\n",
        "\n",
        "# Sort the DataFrame by importance in descending order\n",
        "feature_importance_df = feature_importance_df.sort_values(by='Importance', ascending=False)\n",
        "\n",
        "# Plot using Seaborn\n",
        "plt.figure(figsize=(10, 6))\n",
        "ax = sns.barplot(x='Importance', y='Feature', data=feature_importance_df, palette=\"viridis\")\n",
        "ax.set_xlabel('Importance')\n",
        "ax.set_ylabel('Feature')\n",
        "ax.set_title('Feature Importance')\n",
        "\n",
        "#Rotate x-axis labels for better readability\n",
        "plt.xticks(rotation=45, ha=\"right\")\n",
        "\n",
        "# Adjust font size of y-axis labels\n",
        "plt.yticks(fontsize=8)\n",
        "\n",
        "plt.tight_layout()\n",
        "plt.show()\n"
      ]
    },
    {
      "cell_type": "code",
      "execution_count": 36,
      "metadata": {
        "id": "sTEYBnqDKxwm"
      },
      "outputs": [],
      "source": [
        "# Convert your DataFrame to a NumPy array\n",
        "X_train_np = X_train.to_numpy()\n",
        "X_test_np = X_test.to_numpy()\n",
        "\n",
        "num_top_features = 49\n",
        "top_feature_indices = feature_importances.argsort()[-num_top_features:][::-1]\n",
        "selected_X_train = X_train_np[:, top_feature_indices]\n",
        "selected_X_test = X_test_np[:, top_feature_indices]\n",
        "\n",
        "# Create a new y_train corresponding to selected features\n",
        "selected_y_train = y_train.to_numpy()"
      ]
    },
    {
      "cell_type": "code",
      "execution_count": 37,
      "metadata": {
        "colab": {
          "base_uri": "https://localhost:8080/"
        },
        "id": "0Lpjl-MPL8j7",
        "outputId": "5db3c2d9-f365-4bea-b04d-e9acc13c8600"
      },
      "outputs": [
        {
          "output_type": "stream",
          "name": "stdout",
          "text": [
            "Selected X_train shape: (27439, 49)\n",
            "Selected X_test shape: (6860, 49)\n",
            "Selected y_train shape: (27439,)\n"
          ]
        }
      ],
      "source": [
        "# Display the shapes of the training and testing datasets\n",
        "print(\"Selected X_train shape:\", selected_X_train.shape)\n",
        "print(\"Selected X_test shape:\", selected_X_test.shape)\n",
        "print(\"Selected y_train shape:\", selected_y_train.shape)"
      ]
    },
    {
      "cell_type": "code",
      "execution_count": 38,
      "metadata": {
        "colab": {
          "base_uri": "https://localhost:8080/"
        },
        "id": "rbM7V0mJQftX",
        "outputId": "c55812ef-d904-4ee3-cb14-56f4afe2c205"
      },
      "outputs": [
        {
          "output_type": "stream",
          "name": "stdout",
          "text": [
            "Selected X_train shape: (27439, 49)\n",
            "Selected X_test shape: (6860, 49)\n",
            "Selected y_train shape: (27439,)\n"
          ]
        }
      ],
      "source": [
        "# Create a StandardScaler instance\n",
        "scaler = StandardScaler()\n",
        "\n",
        "# Fit the StandardScaler on the training data\n",
        "X_scaler = scaler.fit(selected_X_train)\n",
        "\n",
        "# Scale the training and test data\n",
        "selected_X_train_scaled = X_scaler.transform(selected_X_train)\n",
        "selected_X_test_scaled = X_scaler.transform(selected_X_test)\n",
        "\n",
        "print(\"Selected X_train shape:\", selected_X_train_scaled.shape)\n",
        "print(\"Selected X_test shape:\", selected_X_test_scaled.shape)\n",
        "print(\"Selected y_train shape:\", selected_y_train.shape)"
      ]
    },
    {
      "cell_type": "markdown",
      "metadata": {
        "id": "xHQgsQ9EeqLG"
      },
      "source": [
        "## Compile, Train and Evaluate the Model"
      ]
    },
    {
      "cell_type": "code",
      "execution_count": 39,
      "metadata": {
        "colab": {
          "base_uri": "https://localhost:8080/"
        },
        "id": "E84hIbUOeqLG",
        "outputId": "9ae117c0-e705-4a26-8529-1615a10bb78c"
      },
      "outputs": [
        {
          "output_type": "stream",
          "name": "stdout",
          "text": [
            "Model: \"sequential_3\"\n",
            "_________________________________________________________________\n",
            " Layer (type)                Output Shape              Param #   \n",
            "=================================================================\n",
            " dense_9 (Dense)             (None, 14)                700       \n",
            "                                                                 \n",
            " dense_10 (Dense)            (None, 7)                 105       \n",
            "                                                                 \n",
            " dense_11 (Dense)            (None, 1)                 8         \n",
            "                                                                 \n",
            "=================================================================\n",
            "Total params: 813\n",
            "Trainable params: 813\n",
            "Non-trainable params: 0\n",
            "_________________________________________________________________\n"
          ]
        }
      ],
      "source": [
        "# Define the model - deep neural net, i.e., the number of input features and hidden nodes for each layer.\n",
        "nn = Sequential()\n",
        "\n",
        "unit_1=14\n",
        "unit_2=7\n",
        "\n",
        "# First hidden layer\n",
        "nn.add(Dense(units=unit_1, input_dim=selected_X_train.shape[1], activation='relu'))\n",
        "\n",
        "# Second hidden layer\n",
        "nn.add(Dense(units=unit_2, activation='relu'))\n",
        "\n",
        "# Output layer\n",
        "nn.add(Dense(units=1, activation='sigmoid'))\n",
        "\n",
        "\n",
        "# Check the structure of the model\n",
        "nn.summary()"
      ]
    },
    {
      "cell_type": "code",
      "execution_count": 40,
      "metadata": {
        "id": "_9T0tgNqeqLH"
      },
      "outputs": [],
      "source": [
        "# Compile the model\n",
        "nn.compile(loss='binary_crossentropy', optimizer='adam', metrics=['accuracy'])"
      ]
    },
    {
      "cell_type": "code",
      "execution_count": 41,
      "metadata": {
        "colab": {
          "base_uri": "https://localhost:8080/"
        },
        "id": "hMiXfSkZeqLI",
        "outputId": "b70c4c1c-c1ea-4a40-df79-94eaf898714e"
      },
      "outputs": [
        {
          "output_type": "stream",
          "name": "stdout",
          "text": [
            "Epoch 1/50\n",
            "849/858 [============================>.] - ETA: 0s - loss: 0.6084 - accuracy: 0.6965Saved weights at epoch 0\n",
            "858/858 [==============================] - 5s 4ms/step - loss: 0.6076 - accuracy: 0.6970\n",
            "Epoch 2/50\n",
            "858/858 [==============================] - 2s 2ms/step - loss: 0.5616 - accuracy: 0.7285\n",
            "Epoch 3/50\n",
            "858/858 [==============================] - 2s 2ms/step - loss: 0.5542 - accuracy: 0.7299\n",
            "Epoch 4/50\n",
            "858/858 [==============================] - 2s 3ms/step - loss: 0.5511 - accuracy: 0.7327\n",
            "Epoch 5/50\n",
            "858/858 [==============================] - 2s 2ms/step - loss: 0.5495 - accuracy: 0.7314\n",
            "Epoch 6/50\n",
            "837/858 [============================>.] - ETA: 0s - loss: 0.5490 - accuracy: 0.7318Saved weights at epoch 5\n",
            "858/858 [==============================] - 2s 2ms/step - loss: 0.5487 - accuracy: 0.7320\n",
            "Epoch 7/50\n",
            "858/858 [==============================] - 2s 2ms/step - loss: 0.5478 - accuracy: 0.7313\n",
            "Epoch 8/50\n",
            "858/858 [==============================] - 2s 2ms/step - loss: 0.5472 - accuracy: 0.7328\n",
            "Epoch 9/50\n",
            "858/858 [==============================] - 2s 2ms/step - loss: 0.5469 - accuracy: 0.7329\n",
            "Epoch 10/50\n",
            "858/858 [==============================] - 2s 2ms/step - loss: 0.5460 - accuracy: 0.7326\n",
            "Epoch 11/50\n",
            "844/858 [============================>.] - ETA: 0s - loss: 0.5468 - accuracy: 0.7329Saved weights at epoch 10\n",
            "858/858 [==============================] - 2s 3ms/step - loss: 0.5460 - accuracy: 0.7334\n",
            "Epoch 12/50\n",
            "858/858 [==============================] - 2s 2ms/step - loss: 0.5453 - accuracy: 0.7330\n",
            "Epoch 13/50\n",
            "858/858 [==============================] - 2s 2ms/step - loss: 0.5450 - accuracy: 0.7321\n",
            "Epoch 14/50\n",
            "858/858 [==============================] - 2s 2ms/step - loss: 0.5448 - accuracy: 0.7309\n",
            "Epoch 15/50\n",
            "858/858 [==============================] - 2s 2ms/step - loss: 0.5447 - accuracy: 0.7326\n",
            "Epoch 16/50\n",
            "835/858 [============================>.] - ETA: 0s - loss: 0.5449 - accuracy: 0.7327Saved weights at epoch 15\n",
            "858/858 [==============================] - 2s 2ms/step - loss: 0.5444 - accuracy: 0.7329\n",
            "Epoch 17/50\n",
            "858/858 [==============================] - 2s 2ms/step - loss: 0.5440 - accuracy: 0.7334\n",
            "Epoch 18/50\n",
            "858/858 [==============================] - 2s 2ms/step - loss: 0.5442 - accuracy: 0.7331\n",
            "Epoch 19/50\n",
            "858/858 [==============================] - 2s 3ms/step - loss: 0.5439 - accuracy: 0.7334\n",
            "Epoch 20/50\n",
            "858/858 [==============================] - 2s 2ms/step - loss: 0.5438 - accuracy: 0.7330\n",
            "Epoch 21/50\n",
            "836/858 [============================>.] - ETA: 0s - loss: 0.5433 - accuracy: 0.7339Saved weights at epoch 20\n",
            "858/858 [==============================] - 2s 2ms/step - loss: 0.5432 - accuracy: 0.7337\n",
            "Epoch 22/50\n",
            "858/858 [==============================] - 2s 2ms/step - loss: 0.5434 - accuracy: 0.7330\n",
            "Epoch 23/50\n",
            "858/858 [==============================] - 2s 2ms/step - loss: 0.5432 - accuracy: 0.7344\n",
            "Epoch 24/50\n",
            "858/858 [==============================] - 2s 2ms/step - loss: 0.5431 - accuracy: 0.7344\n",
            "Epoch 25/50\n",
            "858/858 [==============================] - 2s 2ms/step - loss: 0.5428 - accuracy: 0.7344\n",
            "Epoch 26/50\n",
            "854/858 [============================>.] - ETA: 0s - loss: 0.5424 - accuracy: 0.7339Saved weights at epoch 25\n",
            "858/858 [==============================] - 2s 3ms/step - loss: 0.5426 - accuracy: 0.7338\n",
            "Epoch 27/50\n",
            "858/858 [==============================] - 2s 2ms/step - loss: 0.5421 - accuracy: 0.7341\n",
            "Epoch 28/50\n",
            "858/858 [==============================] - 2s 2ms/step - loss: 0.5427 - accuracy: 0.7348\n",
            "Epoch 29/50\n",
            "858/858 [==============================] - 2s 2ms/step - loss: 0.5423 - accuracy: 0.7343\n",
            "Epoch 30/50\n",
            "858/858 [==============================] - 2s 2ms/step - loss: 0.5421 - accuracy: 0.7337\n",
            "Epoch 31/50\n",
            "852/858 [============================>.] - ETA: 0s - loss: 0.5426 - accuracy: 0.7343Saved weights at epoch 30\n",
            "858/858 [==============================] - 2s 2ms/step - loss: 0.5422 - accuracy: 0.7347\n",
            "Epoch 32/50\n",
            "858/858 [==============================] - 2s 2ms/step - loss: 0.5418 - accuracy: 0.7350\n",
            "Epoch 33/50\n",
            "858/858 [==============================] - 2s 2ms/step - loss: 0.5418 - accuracy: 0.7338\n",
            "Epoch 34/50\n",
            "858/858 [==============================] - 2s 3ms/step - loss: 0.5417 - accuracy: 0.7340\n",
            "Epoch 35/50\n",
            "858/858 [==============================] - 2s 2ms/step - loss: 0.5417 - accuracy: 0.7352\n",
            "Epoch 36/50\n",
            "845/858 [============================>.] - ETA: 0s - loss: 0.5418 - accuracy: 0.7332Saved weights at epoch 35\n",
            "858/858 [==============================] - 2s 2ms/step - loss: 0.5416 - accuracy: 0.7333\n",
            "Epoch 37/50\n",
            "858/858 [==============================] - 2s 2ms/step - loss: 0.5415 - accuracy: 0.7353\n",
            "Epoch 38/50\n",
            "858/858 [==============================] - 2s 2ms/step - loss: 0.5409 - accuracy: 0.7353\n",
            "Epoch 39/50\n",
            "858/858 [==============================] - 2s 2ms/step - loss: 0.5413 - accuracy: 0.7345\n",
            "Epoch 40/50\n",
            "858/858 [==============================] - 2s 2ms/step - loss: 0.5410 - accuracy: 0.7347\n",
            "Epoch 41/50\n",
            "854/858 [============================>.] - ETA: 0s - loss: 0.5413 - accuracy: 0.7346Saved weights at epoch 40\n",
            "858/858 [==============================] - 2s 2ms/step - loss: 0.5412 - accuracy: 0.7347\n",
            "Epoch 42/50\n",
            "858/858 [==============================] - 2s 2ms/step - loss: 0.5409 - accuracy: 0.7341\n",
            "Epoch 43/50\n",
            "858/858 [==============================] - 2s 2ms/step - loss: 0.5410 - accuracy: 0.7345\n",
            "Epoch 44/50\n",
            "858/858 [==============================] - 2s 2ms/step - loss: 0.5407 - accuracy: 0.7352\n",
            "Epoch 45/50\n",
            "858/858 [==============================] - 2s 2ms/step - loss: 0.5411 - accuracy: 0.7345\n",
            "Epoch 46/50\n",
            "834/858 [============================>.] - ETA: 0s - loss: 0.5405 - accuracy: 0.7362Saved weights at epoch 45\n",
            "858/858 [==============================] - 2s 2ms/step - loss: 0.5406 - accuracy: 0.7362\n",
            "Epoch 47/50\n",
            "858/858 [==============================] - 2s 2ms/step - loss: 0.5406 - accuracy: 0.7348\n",
            "Epoch 48/50\n",
            "858/858 [==============================] - 2s 2ms/step - loss: 0.5407 - accuracy: 0.7350\n",
            "Epoch 49/50\n",
            "858/858 [==============================] - 2s 3ms/step - loss: 0.5403 - accuracy: 0.7366\n",
            "Epoch 50/50\n",
            "858/858 [==============================] - 2s 2ms/step - loss: 0.5405 - accuracy: 0.7365\n"
          ]
        }
      ],
      "source": [
        "# Train the model\n",
        "history = nn.fit(selected_X_train_scaled, selected_y_train, epochs=50, verbose=1, callbacks=[SaveWeightsCallback()])"
      ]
    },
    {
      "cell_type": "code",
      "execution_count": 42,
      "metadata": {
        "colab": {
          "base_uri": "https://localhost:8080/"
        },
        "id": "sM-JiV30eqLI",
        "outputId": "08ec81df-4ec8-419e-ead1-6d5b50de042f"
      },
      "outputs": [
        {
          "output_type": "stream",
          "name": "stdout",
          "text": [
            "215/215 - 0s - loss: 0.5523 - accuracy: 0.7306 - 396ms/epoch - 2ms/step\n",
            "Loss: 0.5522703528404236, Accuracy: 0.7306122183799744\n"
          ]
        }
      ],
      "source": [
        "# Evaluate the model using the test data\n",
        "model_loss, model_accuracy = nn.evaluate(selected_X_test_scaled, y_test, verbose=2)\n",
        "print(f\"Loss: {model_loss}, Accuracy: {model_accuracy}\")"
      ]
    },
    {
      "cell_type": "code",
      "source": [
        "# Standardize the features (important for PCA)\n",
        "scaler = StandardScaler()\n",
        "X_train_scaled = scaler.fit_transform(X_train)\n",
        "X_test_scaled = scaler.transform(X_test)\n",
        "\n",
        "# Apply PCA\n",
        "num_components = 10  # Choose the number of principal components you want to retain\n",
        "pca = PCA(n_components=num_components)\n",
        "X_train_pca = pca.fit_transform(X_train_scaled)\n",
        "X_test_pca = pca.transform(X_test_scaled)\n",
        "\n",
        "# Display the explained variance ratio of the selected components\n",
        "print(\"Explained Variance Ratio of Selected Components:\", pca.explained_variance_ratio_)\n",
        "\n",
        "# Display the shapes of the PCA-transformed datasets\n",
        "print(\"X_train_pca shape:\", X_train_pca.shape)\n",
        "print(\"X_test_pca shape:\", X_test_pca.shape)"
      ],
      "metadata": {
        "colab": {
          "base_uri": "https://localhost:8080/"
        },
        "id": "xw943YU65M7k",
        "outputId": "abb8db54-565a-40ee-ee73-9ba05d6c3a7a"
      },
      "execution_count": 43,
      "outputs": [
        {
          "output_type": "stream",
          "name": "stdout",
          "text": [
            "Explained Variance Ratio of Selected Components: [0.09625355 0.05706071 0.04126678 0.03828127 0.03458536 0.03145471\n",
            " 0.02999986 0.02863709 0.02574486 0.02363299]\n",
            "X_train_pca shape: (27439, 10)\n",
            "X_test_pca shape: (6860, 10)\n"
          ]
        }
      ]
    },
    {
      "cell_type": "code",
      "source": [
        "# Define the model - deep neural net, i.e., the number of input features and hidden nodes for each layer.\n",
        "nn = Sequential()\n",
        "\n",
        "# First hidden layer\n",
        "nn.add(Dense(units=unit_1, input_dim=X_train_pca.shape[1], activation='tanh'))\n",
        "\n",
        "# Second hidden layer\n",
        "nn.add(Dense(units=unit_2, activation='relu'))\n",
        "\n",
        "# Output layer\n",
        "nn.add(Dense(units=1, activation='sigmoid'))\n",
        "\n",
        "\n",
        "# Check the structure of the model\n",
        "nn.summary()"
      ],
      "metadata": {
        "colab": {
          "base_uri": "https://localhost:8080/"
        },
        "id": "Cxjp0uDf5NER",
        "outputId": "35452189-a45b-4433-fc48-4f9d91a366d8"
      },
      "execution_count": 44,
      "outputs": [
        {
          "output_type": "stream",
          "name": "stdout",
          "text": [
            "Model: \"sequential_4\"\n",
            "_________________________________________________________________\n",
            " Layer (type)                Output Shape              Param #   \n",
            "=================================================================\n",
            " dense_12 (Dense)            (None, 14)                154       \n",
            "                                                                 \n",
            " dense_13 (Dense)            (None, 7)                 105       \n",
            "                                                                 \n",
            " dense_14 (Dense)            (None, 1)                 8         \n",
            "                                                                 \n",
            "=================================================================\n",
            "Total params: 267\n",
            "Trainable params: 267\n",
            "Non-trainable params: 0\n",
            "_________________________________________________________________\n"
          ]
        }
      ]
    },
    {
      "cell_type": "code",
      "source": [
        "# Compile the model\n",
        "nn.compile(loss='binary_crossentropy', optimizer='adam', metrics=['accuracy'])"
      ],
      "metadata": {
        "id": "xcpa0BWr5tCl"
      },
      "execution_count": 45,
      "outputs": []
    },
    {
      "cell_type": "code",
      "source": [
        "# Train the model\n",
        "history = nn.fit(X_train_pca, y_train, epochs=50, verbose=1)"
      ],
      "metadata": {
        "colab": {
          "base_uri": "https://localhost:8080/"
        },
        "id": "yeBIpH9U5tKi",
        "outputId": "4a859436-7094-45ff-c038-aff9b83feeac"
      },
      "execution_count": 46,
      "outputs": [
        {
          "output_type": "stream",
          "name": "stdout",
          "text": [
            "Epoch 1/50\n",
            "858/858 [==============================] - 2s 2ms/step - loss: 0.6025 - accuracy: 0.6921\n",
            "Epoch 2/50\n",
            "858/858 [==============================] - 2s 2ms/step - loss: 0.5708 - accuracy: 0.7214\n",
            "Epoch 3/50\n",
            "858/858 [==============================] - 2s 2ms/step - loss: 0.5639 - accuracy: 0.7262\n",
            "Epoch 4/50\n",
            "858/858 [==============================] - 2s 2ms/step - loss: 0.5604 - accuracy: 0.7258\n",
            "Epoch 5/50\n",
            "858/858 [==============================] - 2s 2ms/step - loss: 0.5580 - accuracy: 0.7271\n",
            "Epoch 6/50\n",
            "858/858 [==============================] - 2s 2ms/step - loss: 0.5563 - accuracy: 0.7272\n",
            "Epoch 7/50\n",
            "858/858 [==============================] - 2s 2ms/step - loss: 0.5552 - accuracy: 0.7271\n",
            "Epoch 8/50\n",
            "858/858 [==============================] - 2s 2ms/step - loss: 0.5541 - accuracy: 0.7289\n",
            "Epoch 9/50\n",
            "858/858 [==============================] - 2s 2ms/step - loss: 0.5538 - accuracy: 0.7270\n",
            "Epoch 10/50\n",
            "858/858 [==============================] - 2s 2ms/step - loss: 0.5532 - accuracy: 0.7288\n",
            "Epoch 11/50\n",
            "858/858 [==============================] - 2s 3ms/step - loss: 0.5526 - accuracy: 0.7289\n",
            "Epoch 12/50\n",
            "858/858 [==============================] - 2s 2ms/step - loss: 0.5520 - accuracy: 0.7286\n",
            "Epoch 13/50\n",
            "858/858 [==============================] - 2s 2ms/step - loss: 0.5517 - accuracy: 0.7288\n",
            "Epoch 14/50\n",
            "858/858 [==============================] - 2s 2ms/step - loss: 0.5515 - accuracy: 0.7289\n",
            "Epoch 15/50\n",
            "858/858 [==============================] - 2s 2ms/step - loss: 0.5513 - accuracy: 0.7296\n",
            "Epoch 16/50\n",
            "858/858 [==============================] - 2s 2ms/step - loss: 0.5510 - accuracy: 0.7289\n",
            "Epoch 17/50\n",
            "858/858 [==============================] - 2s 2ms/step - loss: 0.5508 - accuracy: 0.7287\n",
            "Epoch 18/50\n",
            "858/858 [==============================] - 2s 2ms/step - loss: 0.5503 - accuracy: 0.7293\n",
            "Epoch 19/50\n",
            "858/858 [==============================] - 2s 3ms/step - loss: 0.5503 - accuracy: 0.7286\n",
            "Epoch 20/50\n",
            "858/858 [==============================] - 2s 2ms/step - loss: 0.5502 - accuracy: 0.7306\n",
            "Epoch 21/50\n",
            "858/858 [==============================] - 2s 2ms/step - loss: 0.5497 - accuracy: 0.7291\n",
            "Epoch 22/50\n",
            "858/858 [==============================] - 2s 2ms/step - loss: 0.5499 - accuracy: 0.7290\n",
            "Epoch 23/50\n",
            "858/858 [==============================] - 2s 2ms/step - loss: 0.5494 - accuracy: 0.7291\n",
            "Epoch 24/50\n",
            "858/858 [==============================] - 2s 2ms/step - loss: 0.5493 - accuracy: 0.7288\n",
            "Epoch 25/50\n",
            "858/858 [==============================] - 2s 2ms/step - loss: 0.5490 - accuracy: 0.7305\n",
            "Epoch 26/50\n",
            "858/858 [==============================] - 2s 3ms/step - loss: 0.5489 - accuracy: 0.7303\n",
            "Epoch 27/50\n",
            "858/858 [==============================] - 2s 2ms/step - loss: 0.5487 - accuracy: 0.7303\n",
            "Epoch 28/50\n",
            "858/858 [==============================] - 2s 2ms/step - loss: 0.5486 - accuracy: 0.7302\n",
            "Epoch 29/50\n",
            "858/858 [==============================] - 2s 2ms/step - loss: 0.5483 - accuracy: 0.7305\n",
            "Epoch 30/50\n",
            "858/858 [==============================] - 2s 2ms/step - loss: 0.5483 - accuracy: 0.7301\n",
            "Epoch 31/50\n",
            "858/858 [==============================] - 2s 2ms/step - loss: 0.5481 - accuracy: 0.7295\n",
            "Epoch 32/50\n",
            "858/858 [==============================] - 2s 2ms/step - loss: 0.5482 - accuracy: 0.7314\n",
            "Epoch 33/50\n",
            "858/858 [==============================] - 2s 2ms/step - loss: 0.5480 - accuracy: 0.7314\n",
            "Epoch 34/50\n",
            "858/858 [==============================] - 2s 3ms/step - loss: 0.5478 - accuracy: 0.7317\n",
            "Epoch 35/50\n",
            "858/858 [==============================] - 2s 2ms/step - loss: 0.5476 - accuracy: 0.7324\n",
            "Epoch 36/50\n",
            "858/858 [==============================] - 2s 2ms/step - loss: 0.5477 - accuracy: 0.7313\n",
            "Epoch 37/50\n",
            "858/858 [==============================] - 2s 2ms/step - loss: 0.5477 - accuracy: 0.7310\n",
            "Epoch 38/50\n",
            "858/858 [==============================] - 2s 2ms/step - loss: 0.5477 - accuracy: 0.7320\n",
            "Epoch 39/50\n",
            "858/858 [==============================] - 2s 2ms/step - loss: 0.5476 - accuracy: 0.7317\n",
            "Epoch 40/50\n",
            "858/858 [==============================] - 2s 2ms/step - loss: 0.5476 - accuracy: 0.7315\n",
            "Epoch 41/50\n",
            "858/858 [==============================] - 2s 2ms/step - loss: 0.5472 - accuracy: 0.7324\n",
            "Epoch 42/50\n",
            "858/858 [==============================] - 2s 2ms/step - loss: 0.5472 - accuracy: 0.7325\n",
            "Epoch 43/50\n",
            "858/858 [==============================] - 2s 2ms/step - loss: 0.5472 - accuracy: 0.7309\n",
            "Epoch 44/50\n",
            "858/858 [==============================] - 2s 2ms/step - loss: 0.5471 - accuracy: 0.7314\n",
            "Epoch 45/50\n",
            "858/858 [==============================] - 2s 2ms/step - loss: 0.5471 - accuracy: 0.7313\n",
            "Epoch 46/50\n",
            "858/858 [==============================] - 2s 2ms/step - loss: 0.5471 - accuracy: 0.7321\n",
            "Epoch 47/50\n",
            "858/858 [==============================] - 2s 2ms/step - loss: 0.5469 - accuracy: 0.7323\n",
            "Epoch 48/50\n",
            "858/858 [==============================] - 2s 2ms/step - loss: 0.5468 - accuracy: 0.7325\n",
            "Epoch 49/50\n",
            "858/858 [==============================] - 2s 3ms/step - loss: 0.5468 - accuracy: 0.7318\n",
            "Epoch 50/50\n",
            "858/858 [==============================] - 2s 2ms/step - loss: 0.5468 - accuracy: 0.7329\n"
          ]
        }
      ]
    },
    {
      "cell_type": "code",
      "source": [
        "# Evaluate the model using the test data\n",
        "model_loss, model_accuracy = nn.evaluate(X_test_pca, y_test, verbose=2)\n",
        "print(f\"Loss: {model_loss}, Accuracy: {model_accuracy}\")"
      ],
      "metadata": {
        "id": "AwC5vbWn-YOx",
        "colab": {
          "base_uri": "https://localhost:8080/"
        },
        "outputId": "75e255f6-ba64-43c5-903c-ad67c521cca9"
      },
      "execution_count": 47,
      "outputs": [
        {
          "output_type": "stream",
          "name": "stdout",
          "text": [
            "215/215 - 0s - loss: 0.5576 - accuracy: 0.7255 - 398ms/epoch - 2ms/step\n",
            "Loss: 0.557620108127594, Accuracy: 0.7255101799964905\n"
          ]
        }
      ]
    },
    {
      "cell_type": "code",
      "source": [
        "from google.colab import drive\n",
        "\n",
        "# Mount Google Drive\n",
        "drive.mount('/content/drive')\n",
        "\n",
        "# Export our model to HDF5 file in your Google Drive\n",
        "nn.save(\"/content/drive/MyDrive/trained_model.h5\")"
      ],
      "metadata": {
        "colab": {
          "base_uri": "https://localhost:8080/"
        },
        "id": "lMmlWy5uoX2j",
        "outputId": "62368706-3804-4f0b-bf60-def5e69e4467"
      },
      "execution_count": 48,
      "outputs": [
        {
          "output_type": "stream",
          "name": "stdout",
          "text": [
            "Mounted at /content/drive\n"
          ]
        }
      ]
    }
  ],
  "metadata": {
    "colab": {
      "provenance": [],
      "include_colab_link": true
    },
    "kernelspec": {
      "display_name": "Python 3",
      "language": "python",
      "name": "python3"
    },
    "language_info": {
      "codemirror_mode": {
        "name": "ipython",
        "version": 3
      },
      "file_extension": ".py",
      "mimetype": "text/x-python",
      "name": "python",
      "nbconvert_exporter": "python",
      "pygments_lexer": "ipython3",
      "version": "3.-1.-1"
    },
    "vscode": {
      "interpreter": {
        "hash": "31f2aee4e71d21fbe5cf8b01ff0e069b9275f58929596ceb00d14d90e3e16cd6"
      }
    }
  },
  "nbformat": 4,
  "nbformat_minor": 0
}